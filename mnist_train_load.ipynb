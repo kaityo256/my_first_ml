{
  "nbformat": 4,
  "nbformat_minor": 0,
  "metadata": {
    "colab": {
      "provenance": []
    },
    "kernelspec": {
      "name": "python3",
      "display_name": "Python 3"
    },
    "language_info": {
      "name": "python"
    }
  },
  "cells": [
    {
      "cell_type": "markdown",
      "source": [
        "# MNISTを学習し、重みを保存して読み込むサンプル"
      ],
      "metadata": {
        "id": "3GvDlgOluEq0"
      }
    },
    {
      "cell_type": "markdown",
      "source": [
        "## 必要なライブラリのインポート"
      ],
      "metadata": {
        "id": "ZiL31qMquSK5"
      }
    },
    {
      "cell_type": "code",
      "execution_count": null,
      "metadata": {
        "id": "Vm5kscX_tiGz"
      },
      "outputs": [],
      "source": [
        "import numpy as np\n",
        "from tensorflow import keras"
      ]
    },
    {
      "cell_type": "markdown",
      "source": [
        "## 学習データセット(MNIST)の読み込み}"
      ],
      "metadata": {
        "id": "1cS1oxS6uP5i"
      }
    },
    {
      "cell_type": "code",
      "source": [
        "def get_data():\n",
        "    train_data, test_data = keras.datasets.mnist.load_data()\n",
        "    train_images, train_labels = train_data\n",
        "    test_images, test_labels = test_data\n",
        "    train_images = train_images / 255.0\n",
        "    test_images = test_images / 255.0\n",
        "    return (train_images, train_labels, test_images, test_labels)"
      ],
      "metadata": {
        "id": "T0BQLNqitmQX"
      },
      "execution_count": null,
      "outputs": []
    },
    {
      "cell_type": "markdown",
      "source": [
        "## モデルの作成"
      ],
      "metadata": {
        "id": "HT3kUq1tuUbZ"
      }
    },
    {
      "cell_type": "code",
      "source": [
        "def create_model():\n",
        "    model = keras.Sequential(\n",
        "        [\n",
        "            keras.layers.Flatten(input_shape=(28, 28)),\n",
        "            keras.layers.Dense(128, activation=\"relu\"),\n",
        "            keras.layers.Dense(10, activation=\"softmax\"),\n",
        "        ]\n",
        "    )\n",
        "    model.compile(\n",
        "        optimizer=\"adam\", loss=\"sparse_categorical_crossentropy\", metrics=[\"accuracy\"]\n",
        "    )\n",
        "    return model"
      ],
      "metadata": {
        "id": "o909_Sk2tpEO"
      },
      "execution_count": null,
      "outputs": []
    },
    {
      "cell_type": "markdown",
      "source": [
        "## モデルの学習"
      ],
      "metadata": {
        "id": "2VYa5qp7uWpo"
      }
    },
    {
      "cell_type": "code",
      "source": [
        "(train_images, train_labels, test_images, test_labels) = get_data()\n",
        "model = create_model()\n",
        "model.fit(train_images, train_labels, epochs=5)"
      ],
      "metadata": {
        "id": "k93WhaoKtqhG"
      },
      "execution_count": null,
      "outputs": []
    },
    {
      "cell_type": "markdown",
      "source": [
        "## モデルの評価(テスト)"
      ],
      "metadata": {
        "id": "3j_QeFefuZBR"
      }
    },
    {
      "cell_type": "code",
      "source": [
        "test_loss, test_acc = model.evaluate(test_images, test_labels)\n",
        "print(f\"Test Loss = {test_loss}\")\n",
        "print(f\"Test Accuracy = {test_acc}\")"
      ],
      "metadata": {
        "id": "A6e6NQ0utsfG"
      },
      "execution_count": null,
      "outputs": []
    },
    {
      "cell_type": "markdown",
      "source": [
        "## モデルの保存"
      ],
      "metadata": {
        "id": "UoLqOsOCubep"
      }
    },
    {
      "cell_type": "code",
      "source": [
        "model.save(\"model.keras\")"
      ],
      "metadata": {
        "id": "GV_gyx6rt6ll"
      },
      "execution_count": null,
      "outputs": []
    },
    {
      "cell_type": "markdown",
      "source": [
        "## モデルの読み込み"
      ],
      "metadata": {
        "id": "_bMJ08C7udsZ"
      }
    },
    {
      "cell_type": "code",
      "source": [
        "loaded_model = keras.models.load_model(\"model.keras\")"
      ],
      "metadata": {
        "id": "HO1AdCSrt8hk"
      },
      "execution_count": null,
      "outputs": []
    },
    {
      "cell_type": "markdown",
      "source": [
        "## 読み込んだモデルの評価"
      ],
      "metadata": {
        "id": "PF0ETmI3ufYx"
      }
    },
    {
      "cell_type": "code",
      "source": [
        "predictions = loaded_model(test_images[0:20])\n",
        "\n",
        "for i in range(20):\n",
        "    predicted_index = np.argmax(predictions[i])\n",
        "    print(f\"prediction= {predicted_index} answer = {test_labels[i]}\")"
      ],
      "metadata": {
        "id": "jvapjaESuAXU"
      },
      "execution_count": null,
      "outputs": []
    }
  ]
}