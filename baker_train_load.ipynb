{
  "nbformat": 4,
  "nbformat_minor": 0,
  "metadata": {
    "colab": {
      "provenance": []
    },
    "kernelspec": {
      "name": "python3",
      "display_name": "Python 3"
    },
    "language_info": {
      "name": "python"
    }
  },
  "cells": [
    {
      "cell_type": "markdown",
      "source": [
        "# パイこね変換のデータを学習させるサンプル"
      ],
      "metadata": {
        "id": "RVNq8DS2wxEc"
      }
    },
    {
      "cell_type": "markdown",
      "source": [
        "## 必要なライブラリのインポート"
      ],
      "metadata": {
        "id": "hCyD34-gw5PU"
      }
    },
    {
      "cell_type": "code",
      "execution_count": null,
      "metadata": {
        "id": "bFxgQJn7wL8h"
      },
      "outputs": [],
      "source": [
        "import numpy as np\n",
        "from tensorflow import keras"
      ]
    },
    {
      "cell_type": "markdown",
      "source": [
        "## ランダムなデータの生成"
      ],
      "metadata": {
        "id": "EGU8ryP6w-pc"
      }
    },
    {
      "cell_type": "code",
      "source": [
        "def get_random(length):\n",
        "    return np.random.random(length)"
      ],
      "metadata": {
        "id": "m2pUbC-DwQ8i"
      },
      "execution_count": null,
      "outputs": []
    },
    {
      "cell_type": "markdown",
      "source": [
        "## パイこね変換のデータの生成"
      ],
      "metadata": {
        "id": "BkP50HMaw_Tr"
      }
    },
    {
      "cell_type": "code",
      "source": [
        "def get_baker(length):\n",
        "    a = np.zeros(length)\n",
        "    x = np.random.random()\n",
        "    for i in range(length):\n",
        "        x = x * 3.0\n",
        "        x = x - int(x)\n",
        "        a[i] = x\n",
        "    return a"
      ],
      "metadata": {
        "id": "plRJ-TObwR5g"
      },
      "execution_count": null,
      "outputs": []
    },
    {
      "cell_type": "markdown",
      "source": [
        "## 学習用データの作成"
      ],
      "metadata": {
        "id": "7T57f-d3xDE8"
      }
    },
    {
      "cell_type": "code",
      "source": [
        "def make_data(n, length):\n",
        "    x = []\n",
        "    y = []\n",
        "    for _ in range(length):\n",
        "        if np.random.random() < 0.5:\n",
        "            x.append(get_random(n))\n",
        "            y.append(0)\n",
        "        else:\n",
        "            x.append(get_baker(n))\n",
        "            y.append(1)\n",
        "    x = np.array(x)\n",
        "    y = np.array(y)\n",
        "    return x, y"
      ],
      "metadata": {
        "id": "S_889EMQwS1i"
      },
      "execution_count": null,
      "outputs": []
    },
    {
      "cell_type": "markdown",
      "source": [
        "## モデルの作成"
      ],
      "metadata": {
        "id": "wVXfXSSAxFgb"
      }
    },
    {
      "cell_type": "code",
      "source": [
        "def create_model():\n",
        "    model = keras.Sequential(\n",
        "        [\n",
        "            keras.layers.Input(shape=(100,)),\n",
        "            keras.layers.Dense(32, activation=\"relu\"),\n",
        "            keras.layers.Dense(2, activation=\"softmax\"),\n",
        "        ]\n",
        "    )\n",
        "    model.compile(\n",
        "        optimizer=\"adam\", loss=\"sparse_categorical_crossentropy\", metrics=[\"accuracy\"]\n",
        "    )\n",
        "    return model"
      ],
      "metadata": {
        "id": "GvfeBgaywUBX"
      },
      "execution_count": null,
      "outputs": []
    },
    {
      "cell_type": "markdown",
      "source": [
        "## モデルの学習"
      ],
      "metadata": {
        "id": "po6t9HhfxHss"
      }
    },
    {
      "cell_type": "code",
      "source": [
        "n = 100\n",
        "train_data, train_labels = make_data(n, 60000)\n",
        "test_data, test_labels = make_data(n, 10000)\n",
        "model = create_model()\n",
        "model.summary()"
      ],
      "metadata": {
        "id": "8rx9uW7HwVUw"
      },
      "execution_count": null,
      "outputs": []
    },
    {
      "cell_type": "code",
      "source": [
        "model.fit(train_data, train_labels, epochs=5)"
      ],
      "metadata": {
        "id": "FT321xoOnJTw"
      },
      "execution_count": null,
      "outputs": []
    },
    {
      "cell_type": "markdown",
      "source": [
        "## モデルの評価(テスト)"
      ],
      "metadata": {
        "id": "o-5g2MgQxJxz"
      }
    },
    {
      "cell_type": "code",
      "source": [
        "test_loss, test_acc = model.evaluate(test_data, test_labels)\n",
        "print(f\"Test Loss = {test_loss}\")\n",
        "print(f\"Test Accuracy = {test_acc}\")"
      ],
      "metadata": {
        "id": "OmRWuOeDwZ2g"
      },
      "execution_count": null,
      "outputs": []
    },
    {
      "cell_type": "markdown",
      "source": [
        "## モデルの保存"
      ],
      "metadata": {
        "id": "5PejzZ8exNsT"
      }
    },
    {
      "cell_type": "code",
      "source": [
        "model.save(\"baker.keras\")"
      ],
      "metadata": {
        "id": "WJJ9F8CwwcAg"
      },
      "execution_count": null,
      "outputs": []
    },
    {
      "cell_type": "markdown",
      "source": [
        "## モデルの読み込み"
      ],
      "metadata": {
        "id": "xzyQMzZKxPtr"
      }
    },
    {
      "cell_type": "code",
      "source": [
        "loaded_model = keras.models.load_model(\"baker.keras\")"
      ],
      "metadata": {
        "id": "Z2T7tWCgwdYH"
      },
      "execution_count": null,
      "outputs": []
    },
    {
      "cell_type": "markdown",
      "source": [
        "## 読み込んだモデルのテスト\n",
        "\n",
        "### 全てのデータがランダムだった場合"
      ],
      "metadata": {
        "id": "JUKCtu5bxQ5J"
      }
    },
    {
      "cell_type": "code",
      "source": [
        "all_random_data = np.array([get_random(100) for _ in range(100)])\n",
        "all_random_labels = np.array([0] * 100)\n",
        "\n",
        "r_loss, r_acc = loaded_model.evaluate(all_random_data, all_random_labels)\n",
        "\n",
        "print(\"When everything is random\")\n",
        "print(f\"Test Loss = {r_loss}\")\n",
        "print(f\"Test Accuracy = {r_acc}\")"
      ],
      "metadata": {
        "id": "tBryP-DPwhqP"
      },
      "execution_count": null,
      "outputs": []
    },
    {
      "cell_type": "markdown",
      "source": [
        "### 全てのデータがパイこね変換だった場合"
      ],
      "metadata": {
        "id": "rmq_PZCsxZMi"
      }
    },
    {
      "cell_type": "code",
      "source": [
        "all_baker_data = np.array([get_baker(100) for _ in range(100)])\n",
        "all_baker_labels = np.array([1] * 100)\n",
        "\n",
        "b_loss, b_acc = loaded_model.evaluate(all_baker_data, all_baker_labels)\n",
        "\n",
        "print(\"When everything is baker map\")\n",
        "print(f\"Test Loss = {b_loss}\")\n",
        "print(f\"Test Accuracy = {b_acc}\")"
      ],
      "metadata": {
        "id": "laTok7diwnPv"
      },
      "execution_count": null,
      "outputs": []
    }
  ]
}